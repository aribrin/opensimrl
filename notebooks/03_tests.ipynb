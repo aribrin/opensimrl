{
 "cells": [
  {
   "cell_type": "code",
   "execution_count": 1,
   "id": "9c31a9b5",
   "metadata": {},
   "outputs": [],
   "source": [
    "# OpenSimRL: Run Tests in Notebook\n",
    "import sys\n",
    "sys.path.append('../')\n",
    "\n",
    "# Import the test functions we already wrote\n",
    "from tests.test_envs import (\n",
    "    test_gridworld_initialization,\n",
    "    test_gridworld_reset, \n",
    "    test_gridworld_actions,\n",
    "    test_gridworld_goal,\n",
    "    test_gridworld_out_of_bounds\n",
    ")\n",
    "\n",
    "from tests.test_ppo import (\n",
    "    test_ppo_initialization,\n",
    "    test_ppo_get_action,\n",
    "    test_ppo_update\n",
    ")"
   ]
  },
  {
   "cell_type": "code",
   "execution_count": 2,
   "id": "1fe590cd",
   "metadata": {},
   "outputs": [
    {
     "name": "stdout",
     "output_type": "stream",
     "text": [
      "🧪 Running OpenSimRL Tests\n",
      "========================================\n",
      "\n",
      "🏗️ Environment Tests:\n",
      "--------------------\n",
      "✅ GridWorld initialization - PASSED\n",
      "✅ GridWorld reset - PASSED\n",
      "✅ GridWorld actions - PASSED\n",
      "✅ GridWorld goal - PASSED\n",
      "✅ GridWorld boundaries - PASSED\n"
     ]
    }
   ],
   "source": [
    "print(\"🧪 Running OpenSimRL Tests\")\n",
    "print(\"=\" * 40)\n",
    "\n",
    "# Run Environment Tests\n",
    "print(\"\\n🏗️ Environment Tests:\")\n",
    "print(\"-\" * 20)\n",
    "\n",
    "try:\n",
    "    test_gridworld_initialization()\n",
    "    print(\"✅ GridWorld initialization - PASSED\")\n",
    "except Exception as e:\n",
    "    print(f\"❌ GridWorld initialization - FAILED: {e}\")\n",
    "\n",
    "try:\n",
    "    test_gridworld_reset()\n",
    "    print(\"✅ GridWorld reset - PASSED\")\n",
    "except Exception as e:\n",
    "    print(f\"❌ GridWorld reset - FAILED: {e}\")\n",
    "\n",
    "try:\n",
    "    test_gridworld_actions()\n",
    "    print(\"✅ GridWorld actions - PASSED\")\n",
    "except Exception as e:\n",
    "    print(f\"❌ GridWorld actions - FAILED: {e}\")\n",
    "\n",
    "try:\n",
    "    test_gridworld_goal()\n",
    "    print(\"✅ GridWorld goal - PASSED\")  \n",
    "except Exception as e:\n",
    "    print(f\"❌ GridWorld goal - FAILED: {e}\")\n",
    "\n",
    "try:\n",
    "    test_gridworld_out_of_bounds()\n",
    "    print(\"✅ GridWorld boundaries - PASSED\")\n",
    "except Exception as e:\n",
    "    print(f\"❌ GridWorld boundaries - FAILED: {e}\")\n"
   ]
  },
  {
   "cell_type": "code",
   "execution_count": 3,
   "id": "c2dfc83e",
   "metadata": {},
   "outputs": [
    {
     "name": "stdout",
     "output_type": "stream",
     "text": [
      "\n",
      "🧠 PPO Algorithm Tests:\n",
      "--------------------\n",
      "✅ PPO initialization - PASSED\n",
      "✅ PPO get_action - PASSED\n",
      "✅ PPO update - PASSED\n",
      "\n",
      "🎉 All tests completed!\n"
     ]
    }
   ],
   "source": [
    "# Run PPO Tests\n",
    "print(\"\\n🧠 PPO Algorithm Tests:\")\n",
    "print(\"-\" * 20)\n",
    "\n",
    "try:\n",
    "    test_ppo_initialization()\n",
    "    print(\"✅ PPO initialization - PASSED\")\n",
    "except Exception as e:\n",
    "    print(f\"❌ PPO initialization - FAILED: {e}\")\n",
    "\n",
    "try:\n",
    "    test_ppo_get_action()\n",
    "    print(\"✅ PPO get_action - PASSED\")\n",
    "except Exception as e:\n",
    "    print(f\"❌ PPO get_action - FAILED: {e}\")\n",
    "\n",
    "try:\n",
    "    test_ppo_update()\n",
    "    print(\"✅ PPO update - PASSED\")\n",
    "except Exception as e:\n",
    "    print(f\"❌ PPO update - FAILED: {e}\")\n",
    "\n",
    "print(\"\\n🎉 All tests completed!\")"
   ]
  }
 ],
 "metadata": {
  "kernelspec": {
   "display_name": "venv",
   "language": "python",
   "name": "python3"
  },
  "language_info": {
   "codemirror_mode": {
    "name": "ipython",
    "version": 3
   },
   "file_extension": ".py",
   "mimetype": "text/x-python",
   "name": "python",
   "nbconvert_exporter": "python",
   "pygments_lexer": "ipython3",
   "version": "3.13.5"
  }
 },
 "nbformat": 4,
 "nbformat_minor": 5
}
