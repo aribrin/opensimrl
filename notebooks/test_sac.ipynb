{
 "cells": [
  {
   "cell_type": "code",
   "execution_count": 1,
   "id": "ae79caa0",
   "metadata": {},
   "outputs": [
    {
     "name": "stdout",
     "output_type": "stream",
     "text": [
      "Changed working directory to project root: /Users/aribrin/Projects/opensimrl\n",
      "Python: 3.13.5\n",
      "Platform: macOS-15.6.1-arm64-arm-64bit-Mach-O\n",
      "NumPy: 2.3.3\n",
      "PyTorch: 2.8.0\n",
      "Gymnasium: 1.2.0\n"
     ]
    }
   ],
   "source": [
    "import os, sys, platform\n",
    "import pathlib as pl\n",
    "import pytest\n",
    "\n",
    "# Ensure working directory is project root (so 'tests/' and 'opensimrl/' resolve)\n",
    "cwd = pl.Path().resolve()\n",
    "if cwd.name == \"notebooks\":\n",
    "    os.chdir(str(cwd.parent))\n",
    "    print(\"Changed working directory to project root:\", os.getcwd())\n",
    "else:\n",
    "    print(\"Working directory:\", os.getcwd())\n",
    "\n",
    "# Optional environment info\n",
    "import numpy as np\n",
    "import torch, gymnasium as gym\n",
    "print(\"Python:\", sys.version.split()[0])\n",
    "print(\"Platform:\", platform.platform())\n",
    "print(\"NumPy:\", np.__version__)\n",
    "print(\"PyTorch:\", torch.__version__)\n",
    "print(\"Gymnasium:\", gym.__version__)\n"
   ]
  },
  {
   "cell_type": "code",
   "execution_count": 2,
   "id": "3f8cfb70",
   "metadata": {},
   "outputs": [
    {
     "name": "stdout",
     "output_type": "stream",
     "text": [
      "\u001b[32m.\u001b[0m\u001b[32m.\u001b[0m\u001b[32m.\u001b[0m\u001b[32m.\u001b[0m\u001b[32m.\u001b[0m\u001b[32m                                                                    [100%]\u001b[0m\n",
      "\u001b[32m\u001b[32m\u001b[1m5 passed\u001b[0m\u001b[32m in 0.01s\u001b[0m\u001b[0m\n",
      "Return code: 0\n"
     ]
    }
   ],
   "source": [
    "# Run sac_core tests\n",
    "rc = pytest.main([\"-q\", \"tests/test_sac_core.py\"])\n",
    "print(\"Return code:\", rc)\n"
   ]
  },
  {
   "cell_type": "code",
   "execution_count": 3,
   "id": "c281a399",
   "metadata": {},
   "outputs": [
    {
     "name": "stdout",
     "output_type": "stream",
     "text": [
      "\u001b[32m.\u001b[0m\u001b[32m.\u001b[0m\u001b[32m                                                                       [100%]\u001b[0m\n",
      "\u001b[32m\u001b[32m\u001b[1m2 passed\u001b[0m\u001b[32m in 0.79s\u001b[0m\u001b[0m\n",
      "Return code: 0\n"
     ]
    }
   ],
   "source": [
    "# Run sac_algo tests\n",
    "rc = pytest.main([\"-q\", \"tests/test_sac_algo.py\"])\n",
    "print(\"Return code:\", rc)"
   ]
  }
 ],
 "metadata": {
  "kernelspec": {
   "display_name": "venv",
   "language": "python",
   "name": "python3"
  },
  "language_info": {
   "codemirror_mode": {
    "name": "ipython",
    "version": 3
   },
   "file_extension": ".py",
   "mimetype": "text/x-python",
   "name": "python",
   "nbconvert_exporter": "python",
   "pygments_lexer": "ipython3",
   "version": "3.13.5"
  }
 },
 "nbformat": 4,
 "nbformat_minor": 5
}
